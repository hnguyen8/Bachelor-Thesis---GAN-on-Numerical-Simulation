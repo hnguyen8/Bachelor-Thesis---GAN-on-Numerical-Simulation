{
  "cells": [
    {
      "cell_type": "code",
      "execution_count": null,
      "metadata": {
        "id": "7MunLVFBqCkd"
      },
      "outputs": [],
      "source": [
        "from google.colab import auth\n",
        "auth.authenticate_user()"
      ]
    },
    {
      "cell_type": "code",
      "execution_count": null,
      "metadata": {
        "colab": {
          "base_uri": "https://localhost:8080/"
        },
        "id": "izh9AVc1qMQL",
        "outputId": "c17be98d-3d9f-4059-bd45-7c6f306f88c6"
      },
      "outputs": [
        {
          "output_type": "stream",
          "name": "stdout",
          "text": [
            "Mounted at /content/gdrive\n"
          ]
        }
      ],
      "source": [
        "from google.colab import drive\n",
        "drive.mount('/content/gdrive')"
      ]
    },
    {
      "cell_type": "code",
      "execution_count": null,
      "metadata": {
        "id": "oryp2qLsoSeA",
        "colab": {
          "base_uri": "https://localhost:8080/"
        },
        "outputId": "c9793b5f-a09a-4bbf-90c4-6b6989b49e67"
      },
      "outputs": [
        {
          "output_type": "stream",
          "name": "stdout",
          "text": [
            "Found 1008 files belonging to 1 classes.\n"
          ]
        }
      ],
      "source": [
        "import tensorflow as tf\n",
        "from tensorflow import keras\n",
        "from tensorflow.keras import layers\n",
        "import numpy as np\n",
        "import tensorflow_probability as tfp\n",
        "import matplotlib.pyplot as plt\n",
        "import os\n",
        "import gdown\n",
        "from tqdm import tqdm\n",
        "from PIL import Image\n",
        "\n",
        "path_a1 = f'dataset_a1'\n",
        "path_a2 = f'dataset_a2'\n",
        "path_b1 = f'dataset_b1'\n",
        "\n",
        "dataset = keras.preprocessing.image_dataset_from_directory(\n",
        "    path_a1, label_mode=None, image_size=(256,256),\n",
        "    batch_size=32,shuffle =True,color_mode=\"grayscale\")\n",
        "dataset = dataset.map(lambda x: (x/255) *2 - 1)"
      ]
    },
    {
      "cell_type": "code",
      "source": [
        "latent_dim = 4096\n",
        "\n",
        "def generator_model():\n",
        "    model = tf.keras.Sequential()\n",
        "    model.add(layers.Reshape(target_shape = [1, 1, 4096], input_shape = [4096]))\n",
        "    assert model.output_shape == (None, 1, 1, 4096)\n",
        "        \n",
        "    \n",
        "    model.add(layers.Conv2DTranspose(filters = 256, kernel_size = 4))\n",
        "    model.add(layers.Activation('relu'))\n",
        "    assert model.output_shape == (None, 4, 4, 256)\n",
        "    \n",
        "    model.add(layers.Conv2D(filters = 256, kernel_size = 4, padding = 'same'))\n",
        "    model.add(layers.BatchNormalization(momentum = 0.7))\n",
        "    model.add(layers.Activation('relu'))\n",
        "    model.add(layers.UpSampling2D())\n",
        "    assert model.output_shape == (None, 8, 8, 256)\n",
        "    \n",
        "    model.add(layers.Conv2D(filters = 128, kernel_size = 4, padding = 'same'))\n",
        "    model.add(layers.BatchNormalization(momentum = 0.7))\n",
        "    model.add(layers.Activation('relu'))\n",
        "    model.add(layers.UpSampling2D())\n",
        "    assert model.output_shape == (None, 16, 16, 128)\n",
        "    \n",
        "    model.add(layers.Conv2D(filters = 64, kernel_size = 3, padding = 'same'))\n",
        "    model.add(layers.BatchNormalization(momentum = 0.7))\n",
        "    model.add(layers.Activation('relu'))\n",
        "    model.add(layers.UpSampling2D())\n",
        "    assert model.output_shape == (None, 32, 32, 64)\n",
        "    \n",
        "    model.add(layers.Conv2D(filters = 32, kernel_size = 3, padding = 'same'))\n",
        "    model.add(layers.BatchNormalization(momentum = 0.7))\n",
        "    model.add(layers.Activation('relu'))\n",
        "    model.add(layers.UpSampling2D())\n",
        "    assert model.output_shape == (None, 64, 64, 32)\n",
        "    \n",
        "    model.add(layers.Conv2D(filters = 16, kernel_size = 3, padding = 'same'))\n",
        "    model.add(layers.BatchNormalization(momentum = 0.7))\n",
        "    model.add(layers.Activation('relu'))\n",
        "    model.add(layers.UpSampling2D())\n",
        "    assert model.output_shape == (None, 128, 128, 16)\n",
        "    \n",
        "    model.add(layers.Conv2D(filters = 8, kernel_size = 3, padding = 'same'))\n",
        "    model.add(layers.Activation('relu'))\n",
        "    model.add(layers.UpSampling2D())\n",
        "    assert model.output_shape == (None, 256, 256, 8)\n",
        "    \n",
        "    model.add(layers.Conv2D(filters = 1, kernel_size = 3, padding = 'same'))\n",
        "    model.add(layers.Activation('tanh'))\n",
        "    assert model.output_shape == (None, 256, 256, 1)\n",
        "    \n",
        "    return model\n",
        "\n",
        "# declares the generator\n",
        "generator = generator_model()\n",
        "generator.summary()\n"
      ],
      "metadata": {
        "id": "TxhaDLDdnQYr",
        "colab": {
          "base_uri": "https://localhost:8080/"
        },
        "outputId": "ddcb3acb-6a16-4dd4-9120-1aa6a524570e"
      },
      "execution_count": null,
      "outputs": [
        {
          "output_type": "stream",
          "name": "stdout",
          "text": [
            "Model: \"sequential\"\n",
            "_________________________________________________________________\n",
            " Layer (type)                Output Shape              Param #   \n",
            "=================================================================\n",
            " reshape (Reshape)           (None, 1, 1, 4096)        0         \n",
            "                                                                 \n",
            " conv2d_transpose (Conv2DTra  (None, 4, 4, 256)        16777472  \n",
            " nspose)                                                         \n",
            "                                                                 \n",
            " activation (Activation)     (None, 4, 4, 256)         0         \n",
            "                                                                 \n",
            " conv2d (Conv2D)             (None, 4, 4, 256)         1048832   \n",
            "                                                                 \n",
            " batch_normalization (BatchN  (None, 4, 4, 256)        1024      \n",
            " ormalization)                                                   \n",
            "                                                                 \n",
            " activation_1 (Activation)   (None, 4, 4, 256)         0         \n",
            "                                                                 \n",
            " up_sampling2d (UpSampling2D  (None, 8, 8, 256)        0         \n",
            " )                                                               \n",
            "                                                                 \n",
            " conv2d_1 (Conv2D)           (None, 8, 8, 128)         524416    \n",
            "                                                                 \n",
            " batch_normalization_1 (Batc  (None, 8, 8, 128)        512       \n",
            " hNormalization)                                                 \n",
            "                                                                 \n",
            " activation_2 (Activation)   (None, 8, 8, 128)         0         \n",
            "                                                                 \n",
            " up_sampling2d_1 (UpSampling  (None, 16, 16, 128)      0         \n",
            " 2D)                                                             \n",
            "                                                                 \n",
            " conv2d_2 (Conv2D)           (None, 16, 16, 64)        73792     \n",
            "                                                                 \n",
            " batch_normalization_2 (Batc  (None, 16, 16, 64)       256       \n",
            " hNormalization)                                                 \n",
            "                                                                 \n",
            " activation_3 (Activation)   (None, 16, 16, 64)        0         \n",
            "                                                                 \n",
            " up_sampling2d_2 (UpSampling  (None, 32, 32, 64)       0         \n",
            " 2D)                                                             \n",
            "                                                                 \n",
            " conv2d_3 (Conv2D)           (None, 32, 32, 32)        18464     \n",
            "                                                                 \n",
            " batch_normalization_3 (Batc  (None, 32, 32, 32)       128       \n",
            " hNormalization)                                                 \n",
            "                                                                 \n",
            " activation_4 (Activation)   (None, 32, 32, 32)        0         \n",
            "                                                                 \n",
            " up_sampling2d_3 (UpSampling  (None, 64, 64, 32)       0         \n",
            " 2D)                                                             \n",
            "                                                                 \n",
            " conv2d_4 (Conv2D)           (None, 64, 64, 16)        4624      \n",
            "                                                                 \n",
            " batch_normalization_4 (Batc  (None, 64, 64, 16)       64        \n",
            " hNormalization)                                                 \n",
            "                                                                 \n",
            " activation_5 (Activation)   (None, 64, 64, 16)        0         \n",
            "                                                                 \n",
            " up_sampling2d_4 (UpSampling  (None, 128, 128, 16)     0         \n",
            " 2D)                                                             \n",
            "                                                                 \n",
            " conv2d_5 (Conv2D)           (None, 128, 128, 8)       1160      \n",
            "                                                                 \n",
            " activation_6 (Activation)   (None, 128, 128, 8)       0         \n",
            "                                                                 \n",
            " up_sampling2d_5 (UpSampling  (None, 256, 256, 8)      0         \n",
            " 2D)                                                             \n",
            "                                                                 \n",
            " conv2d_6 (Conv2D)           (None, 256, 256, 1)       73        \n",
            "                                                                 \n",
            " activation_7 (Activation)   (None, 256, 256, 1)       0         \n",
            "                                                                 \n",
            "=================================================================\n",
            "Total params: 18,450,817\n",
            "Trainable params: 18,449,825\n",
            "Non-trainable params: 992\n",
            "_________________________________________________________________\n"
          ]
        }
      ]
    },
    {
      "cell_type": "code",
      "source": [
        "def discriminator_model():\n",
        "    model = tf.keras.Sequential()\n",
        "        \n",
        "    #add Gaussian noise to prevent Discriminator overfitting\n",
        "    model.add(layers.GaussianNoise(0.2, input_shape = [256, 256, 1]))\n",
        "    \n",
        "    #256x256x3 Image\n",
        "    model.add(layers.Conv2D(filters = 8, kernel_size = 3, padding = 'same'))\n",
        "    model.add(layers.LeakyReLU(0.2))\n",
        "    model.add(layers.Dropout(0.25))\n",
        "    model.add(layers.AveragePooling2D())\n",
        "    \n",
        "    #128x128x8\n",
        "    model.add(layers.Conv2D(filters = 16, kernel_size = 3, padding = 'same'))\n",
        "    model.add(layers.BatchNormalization(momentum = 0.7))\n",
        "    model.add(layers.LeakyReLU(0.2))\n",
        "    model.add(layers.Dropout(0.25))\n",
        "    model.add(layers.AveragePooling2D())\n",
        "    \n",
        "    #64x64x16\n",
        "    model.add(layers.Conv2D(filters = 32, kernel_size = 3, padding = 'same'))\n",
        "    model.add(layers.BatchNormalization(momentum = 0.7))\n",
        "    model.add(layers.LeakyReLU(0.2))\n",
        "    model.add(layers.Dropout(0.25))\n",
        "    model.add(layers.AveragePooling2D())\n",
        "    \n",
        "    #32x32x32\n",
        "    model.add(layers.Conv2D(filters = 64, kernel_size = 3, padding = 'same'))\n",
        "    model.add(layers.BatchNormalization(momentum = 0.7))\n",
        "    model.add(layers.LeakyReLU(0.2))\n",
        "    model.add(layers.Dropout(0.25))\n",
        "    model.add(layers.AveragePooling2D())\n",
        "    \n",
        "    #16x16x64\n",
        "    model.add(layers.Conv2D(filters = 128, kernel_size = 3, padding = 'same'))\n",
        "    model.add(layers.BatchNormalization(momentum = 0.7))\n",
        "    model.add(layers.LeakyReLU(0.2))\n",
        "    model.add(layers.Dropout(0.25))\n",
        "    model.add(layers.AveragePooling2D())\n",
        "    \n",
        "    #8x8x128\n",
        "    model.add(layers.Conv2D(filters = 256, kernel_size = 3, padding = 'same'))\n",
        "    model.add(layers.BatchNormalization(momentum = 0.7))\n",
        "    model.add(layers.LeakyReLU(0.2))\n",
        "    model.add(layers.Dropout(0.25))\n",
        "    model.add(layers.AveragePooling2D())\n",
        "    \n",
        "    #4x4x256\n",
        "    model.add(layers.Flatten())\n",
        "    \n",
        "    #256\n",
        "    model.add(layers.Dense(128))\n",
        "    model.add(layers.LeakyReLU(0.2))\n",
        "\n",
        "    model.add(layers.Dense(1, activation = 'sigmoid'))\n",
        "    \n",
        "    return model\n",
        "  \n",
        "# Declares the discriminator\n",
        "discriminator = discriminator_model()\n",
        "discriminator.summary()"
      ],
      "metadata": {
        "id": "Omixj9faR0fi",
        "colab": {
          "base_uri": "https://localhost:8080/"
        },
        "outputId": "c98305f4-8f44-4369-9ee3-c2ff5d924eec"
      },
      "execution_count": null,
      "outputs": [
        {
          "output_type": "stream",
          "name": "stdout",
          "text": [
            "Model: \"sequential_1\"\n",
            "_________________________________________________________________\n",
            " Layer (type)                Output Shape              Param #   \n",
            "=================================================================\n",
            " gaussian_noise (GaussianNoi  (None, 256, 256, 1)      0         \n",
            " se)                                                             \n",
            "                                                                 \n",
            " conv2d_7 (Conv2D)           (None, 256, 256, 8)       80        \n",
            "                                                                 \n",
            " leaky_re_lu (LeakyReLU)     (None, 256, 256, 8)       0         \n",
            "                                                                 \n",
            " dropout (Dropout)           (None, 256, 256, 8)       0         \n",
            "                                                                 \n",
            " average_pooling2d (AverageP  (None, 128, 128, 8)      0         \n",
            " ooling2D)                                                       \n",
            "                                                                 \n",
            " conv2d_8 (Conv2D)           (None, 128, 128, 16)      1168      \n",
            "                                                                 \n",
            " batch_normalization_5 (Batc  (None, 128, 128, 16)     64        \n",
            " hNormalization)                                                 \n",
            "                                                                 \n",
            " leaky_re_lu_1 (LeakyReLU)   (None, 128, 128, 16)      0         \n",
            "                                                                 \n",
            " dropout_1 (Dropout)         (None, 128, 128, 16)      0         \n",
            "                                                                 \n",
            " average_pooling2d_1 (Averag  (None, 64, 64, 16)       0         \n",
            " ePooling2D)                                                     \n",
            "                                                                 \n",
            " conv2d_9 (Conv2D)           (None, 64, 64, 32)        4640      \n",
            "                                                                 \n",
            " batch_normalization_6 (Batc  (None, 64, 64, 32)       128       \n",
            " hNormalization)                                                 \n",
            "                                                                 \n",
            " leaky_re_lu_2 (LeakyReLU)   (None, 64, 64, 32)        0         \n",
            "                                                                 \n",
            " dropout_2 (Dropout)         (None, 64, 64, 32)        0         \n",
            "                                                                 \n",
            " average_pooling2d_2 (Averag  (None, 32, 32, 32)       0         \n",
            " ePooling2D)                                                     \n",
            "                                                                 \n",
            " conv2d_10 (Conv2D)          (None, 32, 32, 64)        18496     \n",
            "                                                                 \n",
            " batch_normalization_7 (Batc  (None, 32, 32, 64)       256       \n",
            " hNormalization)                                                 \n",
            "                                                                 \n",
            " leaky_re_lu_3 (LeakyReLU)   (None, 32, 32, 64)        0         \n",
            "                                                                 \n",
            " dropout_3 (Dropout)         (None, 32, 32, 64)        0         \n",
            "                                                                 \n",
            " average_pooling2d_3 (Averag  (None, 16, 16, 64)       0         \n",
            " ePooling2D)                                                     \n",
            "                                                                 \n",
            " conv2d_11 (Conv2D)          (None, 16, 16, 128)       73856     \n",
            "                                                                 \n",
            " batch_normalization_8 (Batc  (None, 16, 16, 128)      512       \n",
            " hNormalization)                                                 \n",
            "                                                                 \n",
            " leaky_re_lu_4 (LeakyReLU)   (None, 16, 16, 128)       0         \n",
            "                                                                 \n",
            " dropout_4 (Dropout)         (None, 16, 16, 128)       0         \n",
            "                                                                 \n",
            " average_pooling2d_4 (Averag  (None, 8, 8, 128)        0         \n",
            " ePooling2D)                                                     \n",
            "                                                                 \n",
            " conv2d_12 (Conv2D)          (None, 8, 8, 256)         295168    \n",
            "                                                                 \n",
            " batch_normalization_9 (Batc  (None, 8, 8, 256)        1024      \n",
            " hNormalization)                                                 \n",
            "                                                                 \n",
            " leaky_re_lu_5 (LeakyReLU)   (None, 8, 8, 256)         0         \n",
            "                                                                 \n",
            " dropout_5 (Dropout)         (None, 8, 8, 256)         0         \n",
            "                                                                 \n",
            " average_pooling2d_5 (Averag  (None, 4, 4, 256)        0         \n",
            " ePooling2D)                                                     \n",
            "                                                                 \n",
            " flatten (Flatten)           (None, 4096)              0         \n",
            "                                                                 \n",
            " dense (Dense)               (None, 128)               524416    \n",
            "                                                                 \n",
            " leaky_re_lu_6 (LeakyReLU)   (None, 128)               0         \n",
            "                                                                 \n",
            " dense_1 (Dense)             (None, 1)                 129       \n",
            "                                                                 \n",
            "=================================================================\n",
            "Total params: 919,937\n",
            "Trainable params: 918,945\n",
            "Non-trainable params: 992\n",
            "_________________________________________________________________\n"
          ]
        }
      ]
    },
    {
      "cell_type": "code",
      "source": [
        "class simpleGAN(keras.Model):\n",
        "    def __init__(self, d_model, g_model, latent_dim):\n",
        "        super(simpleGAN, self).__init__()\n",
        "        self.d_model = d_model\n",
        "        self.g_model = g_model\n",
        "        self.latent_dim = latent_dim\n",
        "\n",
        "    def compile(self, d_optimizer, g_optimizer):\n",
        "        super(simpleGAN, self).compile()\n",
        "        self.d_optimizer = d_optimizer\n",
        "        self.g_optimizer = g_optimizer\n",
        "\n",
        "    def train_step(self, real_image_batch):\n",
        "        # Define loss functions\n",
        "        binary_loss = keras.losses.BinaryCrossentropy()\n",
        "        # Half-batch for training discriminator and batch for training generator and auxiliary model\n",
        "        batch = tf.shape(real_image_batch)[0]\n",
        "        # Create generator input \n",
        "        random_latent_vectors = tf.random.normal(shape=(batch, self.latent_dim))\n",
        "\n",
        "        with tf.GradientTape() as d_tape: \n",
        "            self.d_model.trainable = True\n",
        "            d_tape.watch(self.d_model.trainable_variables)\n",
        "\n",
        "            # Train discriminator using half batch real images\n",
        "            y_disc_real = tf.ones((batch, 1))\n",
        "            d_real_output = self.d_model(real_image_batch, training=True)\n",
        "            d_loss_real = binary_loss(y_disc_real, d_real_output)\n",
        "            \n",
        "            # Train discriminator using half batch fake images     \n",
        "            y_disc_fake = tf.zeros((batch, 1))\n",
        "            # Create fake image batch\n",
        "            fake_image_batch = self.g_model(random_latent_vectors, training=True)\n",
        "            d_fake_output = self.d_model(fake_image_batch, training=True)\n",
        "            d_loss_fake = binary_loss(y_disc_fake, d_fake_output)\n",
        "\n",
        "            d_loss = d_loss_real + d_loss_fake\n",
        "        # Calculate gradients\n",
        "        d_gradients = d_tape.gradient(d_loss, self.d_model.trainable_variables)\n",
        "        # Optimize\n",
        "        self.d_optimizer.apply_gradients(zip(d_gradients, self.d_model.trainable_variables))\n",
        "\n",
        "\n",
        "        with tf.GradientTape() as g_tape:\n",
        "            # Create generator input \n",
        "            random_latent_vectors = tf.random.normal(shape=(batch*2, self.latent_dim))\n",
        "            g_tape.watch(self.g_model.trainable_variables)\n",
        "\n",
        "            # Create fake image batch\n",
        "            fake_image_batch = self.g_model(random_latent_vectors, training=True)\n",
        "            d_fake_output = self.d_model(fake_image_batch, training=True)\n",
        "            y_gen_fake = tf.ones((batch*2, 1))\n",
        "            g_img_loss = binary_loss(y_gen_fake, d_fake_output)  \n",
        "\n",
        "            g_loss = g_img_loss \n",
        "        # Calculate gradients\n",
        "        # We do not want to modify the neurons in the discriminator when training the generator and the auxiliary model\n",
        "        self.d_model.trainable=False\n",
        "        g_gradients = g_tape.gradient(g_loss, self.g_model.trainable_variables)\n",
        "        # Optimize\n",
        "        self.g_optimizer.apply_gradients(zip(g_gradients, self.g_model.trainable_variables))\n",
        "       \n",
        "        return {\"d_loss_real\": d_loss_real, \"d_loss_fake\": d_loss_fake, \"g_img_loss\": g_img_loss}\n"
      ],
      "metadata": {
        "id": "cg8x8F7VXPyj"
      },
      "execution_count": null,
      "outputs": []
    },
    {
      "cell_type": "code",
      "source": [
        "# Create a new model instance\n",
        "simple_gan = simpleGAN(discriminator, generator,  latent_dim=4096)\n",
        "simple_gan.compile(d_optimizer=keras.optimizers.Adam(learning_rate=2e-4),\n",
        "                g_optimizer=keras.optimizers.Adam(learning_rate=5e-4))"
      ],
      "metadata": {
        "id": "Jwsv3WnaXWnz"
      },
      "execution_count": null,
      "outputs": []
    },
    {
      "cell_type": "code",
      "source": [
        "# Restore the weights\n",
        "#simple_gan.load_weights('save_path')\n",
        "\n",
        "cp_callback = tf.keras.callbacks.ModelCheckpoint(filepath='save_path', save_freq = 32*50,save_weights_only=True)\n",
        "\n",
        "# Resume training\n",
        "first = 0\n",
        "last = 1\n",
        "simple_gan.fit(dataset, epochs=last, initial_epoch = first, callbacks=[cp_callback])"
      ],
      "metadata": {
        "id": "41cVpDfhS2CY"
      },
      "execution_count": null,
      "outputs": []
    },
    {
      "cell_type": "code",
      "source": [
        "# Result 1: Load Simple GAN model's weights\n",
        "simple_gan.load_weights('save_path') # '/content/gdrive/My Drive/data/Infogan_sim1/checkpoint_Redo_numerical_sim_256'"
      ],
      "metadata": {
        "colab": {
          "base_uri": "https://localhost:8080/"
        },
        "id": "U6ACYF9WNzsQ",
        "outputId": "d8c5bf9b-0169-4b98-bcc3-5a91d557e0b3"
      },
      "execution_count": null,
      "outputs": [
        {
          "output_type": "execute_result",
          "data": {
            "text/plain": [
              "<tensorflow.python.training.tracking.util.CheckpointLoadStatus at 0x7f233ca84b90>"
            ]
          },
          "metadata": {},
          "execution_count": 7
        }
      ]
    },
    {
      "cell_type": "code",
      "source": [
        "# Generate fake images\n",
        "tf.random.set_seed(100)\n",
        "random_latent_vectors = tf.random.normal(shape=(200, 4096), seed = 100)\n",
        "F1 = np.squeeze(simple_gan.g_model(random_latent_vectors))\n",
        "\n",
        "# Compute statistics vectors\n",
        "M_1 = np.mean(F1,axis= 2)\n",
        "M_2 = np.var(F1,axis= 2)\n",
        "#M_3 = scipy.stats.skew(F1,axis= 2)\n",
        "#M_4 = scipy.stats.kurtosis(F1,axis= 2)\n"
      ],
      "metadata": {
        "id": "ZG9szstKzCpr"
      },
      "execution_count": null,
      "outputs": []
    },
    {
      "cell_type": "code",
      "source": [
        "# Display one image from F1\n",
        "plt.imshow(F1[10], cmap = \"coolwarm_r\")\n",
        "plt.show()"
      ],
      "metadata": {
        "colab": {
          "base_uri": "https://localhost:8080/",
          "height": 269
        },
        "id": "dUn0PYbZOWJo",
        "outputId": "ac3da98b-a95e-431e-bc6b-a29191100500"
      },
      "execution_count": null,
      "outputs": [
        {
          "output_type": "display_data",
          "data": {
            "text/plain": [
              "<Figure size 432x288 with 1 Axes>"
            ],
            "image/png": "[encoded data removed]"
          },
          "metadata": {
            "needs_background": "light"
          }
        }
      ]
    }
  ],
  "metadata": {
    "colab": {
      "collapsed_sections": [],
      "provenance": []
    },
    "kernelspec": {
      "display_name": "Python 3",
      "name": "python3"
    },
    "language_info": {
      "name": "python"
    },
    "gpuClass": "standard"
  },
  "nbformat": 4,
  "nbformat_minor": 0
}